{
  "nbformat": 4,
  "nbformat_minor": 0,
  "metadata": {
    "colab": {
      "provenance": []
    },
    "kernelspec": {
      "name": "python3",
      "display_name": "Python 3"
    },
    "language_info": {
      "name": "python"
    }
  },
  "cells": [
    {
      "cell_type": "code",
      "execution_count": 21,
      "metadata": {
        "id": "3_USPvYxZ6_z"
      },
      "outputs": [],
      "source": [
        "import sqlite3\n",
        "conn = sqlite3.connect(\"expenses.db\")\n",
        "cursor = conn.cursor()\n",
        "cursor.execute(\"\"\" CREATE TABLE IF NOT EXISTS expenses(id INTEGER PRIMARY KEY,\n",
        "date DATE,\n",
        "description TEXT,\n",
        "type TEXT,\n",
        "amount REAL) \"\"\")\n",
        "\n",
        "conn.commit()\n",
        "conn.close()"
      ]
    },
    {
      "cell_type": "code",
      "source": [
        "from sqlite3.dbapi2 import PARSE_COLNAMES\n",
        "import sqlite3\n",
        "import datetime\n",
        "\n",
        "conn = sqlite3.connect(\"expenses.db\")\n",
        "cursor = conn.cursor()\n",
        "\n",
        "while True:\n",
        "  print(\"select an option\")\n",
        "  print(\"1. MAke an entry\")\n",
        "  print(\"2. View an expense\")\n",
        "\n",
        "  choice = int(input())\n",
        "\n",
        "  if choice ==1:\n",
        "    date = input(\"enter date in DD-MM-YYYY format\")\n",
        "    description = input(\"tell me something about the expense\")\n",
        "    cursor.execute(\"SELECT DISTINCT type FROM expenses\" )\n",
        "    categories = cursor.fetchall()\n",
        "    (print(\"select a category number\"))\n",
        "    for idx, type in enumerate(categories):\n",
        "      print(f\"{idx + 1}.{categories[0]}\")\n",
        "      print(f\"{len(categories) + 1}. create new category\")\n",
        "      category_choice = input()\n",
        "      if category_choice == len(categories)+1:\n",
        "         category = input(\"enter a new category\")\n",
        "      else:\n",
        "        category == categories([category_choice - 1][0])\n",
        "      amount = input(\"enter the amount\")\n",
        "      cursor.execute(\"INSERT INTO expenses (date, description, type, amount) VALUES (?, ?, ?, ?), (date, description,type, amount)\")\n",
        "      conn.commit()\n",
        "  elif choice == 2:\n",
        "    print(\"select an option\" + \"1. view all expenses\" + \"2. view monthly expenses by category\")\n",
        "    view_choice = int(input())\n",
        "\n",
        "    if view_choice ==1:\n",
        "      cursor.execute(\"SELECT * FROM expenses\")\n",
        "      expenses = cursor.fetchall()\n",
        "      for expense in expenses:\n",
        "        print(expense)\n",
        "\n",
        "    elif view_choice == 2:\n",
        "      month = input(\"enter month(MM)\")\n",
        "      year = input(\"enter year(yy)\")\n",
        "      cursor.execute(\"\"\"SELECT type SUM(amount) FROM expenses\n",
        "      WHERE strftime('%m', date) = ? AND strftime('%y', date) = ?\n",
        "      GROUPBY type\"\"\", (month,year))\n",
        "\n",
        "      expenses = cursor.fetchall()\n",
        "      for expense in expenses:\n",
        "        print(f\"category: {expense[0]}, Total: {expense[1]} \")\n",
        "    else:\n",
        "      exit()\n",
        "\n",
        "else:\n",
        "  exit()\n",
        "repeat = input(\"Wanna add another expense? (Y/N)\")\n",
        "if repeat.lower() != \"Y\":\n",
        "  break\n",
        "\n",
        "conn.close()\n",
        "\n",
        "\n"
      ],
      "metadata": {
        "colab": {
          "base_uri": "https://localhost:8080/"
        },
        "id": "ugB9TkgKaJhK",
        "outputId": "c03355b3-0ba4-4652-a3bb-9179f2258b86"
      },
      "execution_count": null,
      "outputs": [
        {
          "output_type": "stream",
          "name": "stdout",
          "text": [
            "select an option\n",
            "1. MAke an entry\n",
            "2. View an expense\n",
            "1\n",
            "enter date in DD-MM-YYYY format03-03-2002\n",
            "tell me something about the expensek\n",
            "select a category number\n",
            "select an option\n",
            "1. MAke an entry\n",
            "2. View an expense\n"
          ]
        }
      ]
    },
    {
      "cell_type": "code",
      "source": [],
      "metadata": {
        "id": "0d5koWX9gw63"
      },
      "execution_count": null,
      "outputs": []
    }
  ]
}